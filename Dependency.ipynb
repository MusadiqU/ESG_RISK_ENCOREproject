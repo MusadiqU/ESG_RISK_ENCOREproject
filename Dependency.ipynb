{
 "cells": [
  {
   "cell_type": "code",
   "execution_count": 1,
   "id": "c7c53951-4467-47f3-9788-fd3f356530af",
   "metadata": {},
   "outputs": [
    {
     "name": "stdout",
     "output_type": "stream",
     "text": [
      "Requirement already satisfied: pandas in c:\\users\\hu51cv\\appdata\\local\\anaconda3\\lib\\site-packages (2.2.2)\n",
      "Requirement already satisfied: numpy>=1.26.0 in c:\\users\\hu51cv\\appdata\\local\\anaconda3\\lib\\site-packages (from pandas) (1.26.4)\n",
      "Requirement already satisfied: python-dateutil>=2.8.2 in c:\\users\\hu51cv\\appdata\\local\\anaconda3\\lib\\site-packages (from pandas) (2.9.0.post0)\n",
      "Requirement already satisfied: pytz>=2020.1 in c:\\users\\hu51cv\\appdata\\local\\anaconda3\\lib\\site-packages (from pandas) (2024.1)\n",
      "Requirement already satisfied: tzdata>=2022.7 in c:\\users\\hu51cv\\appdata\\local\\anaconda3\\lib\\site-packages (from pandas) (2023.3)\n",
      "Requirement already satisfied: six>=1.5 in c:\\users\\hu51cv\\appdata\\local\\anaconda3\\lib\\site-packages (from python-dateutil>=2.8.2->pandas) (1.16.0)\n"
     ]
    }
   ],
   "source": [
    "!pip install pandas"
   ]
  },
  {
   "cell_type": "code",
   "execution_count": 32,
   "id": "49add727-08a2-4eff-8f1b-9b108b2d872b",
   "metadata": {},
   "outputs": [],
   "source": [
    "import pandas as pd\n",
    "import os"
   ]
  },
  {
   "cell_type": "markdown",
   "id": "c28c906e-98c9-41fc-ad72-8bb654935815",
   "metadata": {},
   "source": [
    "**Importing essential libraries for conditional format and count of occurrence**"
   ]
  },
  {
   "cell_type": "code",
   "execution_count": 35,
   "id": "0c7e3bc0-ec6c-45e7-956e-4d0f11e6fa1f",
   "metadata": {},
   "outputs": [],
   "source": [
    "#importing essential libraries\n",
    "from openpyxl import load_workbook\n",
    "from openpyxl.styles import PatternFill\n",
    "from openpyxl.formatting.rule import FormulaRule"
   ]
  },
  {
   "cell_type": "code",
   "execution_count": 37,
   "id": "71d41222-dd60-47ca-9e42-858c3cc3c4c1",
   "metadata": {},
   "outputs": [],
   "source": [
    "#loading workbook\n",
    "workbook = load_workbook(\"C:\\\\Users\\\\HU51CV\\\\OneDrive - ING\\\\Desktop\\\\ESG Risk\\\\Dependency_with_NACE_class.xlsx\")\n",
    "worksheet = workbook.active"
   ]
  },
  {
   "cell_type": "code",
   "execution_count": 39,
   "id": "c98823b6-5b9a-425a-9963-456ad0e6d8df",
   "metadata": {},
   "outputs": [],
   "source": [
    "#Define the fill pattern for highlighting\n",
    "High_fill = PatternFill(start_color=\"FFFF00\", end_color=\"FFFF00\", fill_type=\"solid\")  # Yellow\n",
    "Very_high_fill = PatternFill(start_color=\"FF0000\", end_color=\"FF0000\", fill_type=\"solid\")  # Red\n"
   ]
  },
  {
   "cell_type": "markdown",
   "id": "5a0f162f-a74a-441c-88c1-0fde92e961b0",
   "metadata": {},
   "source": [
    "**Creating a new column with the number of with ‘High’ or ‘Very High’ pressures**"
   ]
  },
  {
   "cell_type": "code",
   "execution_count": 42,
   "id": "9ea94dda-7b62-4bef-85f5-fa107d8c776f",
   "metadata": {},
   "outputs": [],
   "source": [
    "# Load your DataFrame\n",
    "df = pd.read_excel(\"C:\\\\Users\\\\HU51CV\\\\OneDrive - ING\\\\Desktop\\\\ESG Risk\\\\Dependency_with_NACE_class.xlsx\")\n",
    "\n",
    "# Define the column range (replace ‘colx’ and ‘coly’ with the right ones)\n",
    "start_col = 2\n",
    "end_col = 25\n",
    " \n",
    "# Ensure the columns are zero-indexed\n",
    "start_col -= 1\n",
    "end_col -= 1\n",
    " \n",
    "# Calculate the number of times we have values of x1 or x2 in the specified column range\n",
    "df['Count_H_or_VH'] = df.iloc[:, start_col:end_col+1].apply(lambda row: ((row == 'H') | (row == 'VH')).sum(), axis=1)\n",
    "\n",
    "# Save the resulting DataFrame to a new Excel file\n",
    "df.to_excel(\"C:\\\\Users\\\\HU51CV\\\\OneDrive - ING\\\\Desktop\\\\ESG Risk\\\\Dependency_with_counts.xlsx\", index=False)"
   ]
  },
  {
   "cell_type": "code",
   "execution_count": null,
   "id": "19c33700-cd40-4904-bf4b-1bb17a7ff66e",
   "metadata": {},
   "outputs": [],
   "source": []
  }
 ],
 "metadata": {
  "kernelspec": {
   "display_name": "Python 3 (ipykernel)",
   "language": "python",
   "name": "python3"
  },
  "language_info": {
   "codemirror_mode": {
    "name": "ipython",
    "version": 3
   },
   "file_extension": ".py",
   "mimetype": "text/x-python",
   "name": "python",
   "nbconvert_exporter": "python",
   "pygments_lexer": "ipython3",
   "version": "3.12.4"
  }
 },
 "nbformat": 4,
 "nbformat_minor": 5
}
