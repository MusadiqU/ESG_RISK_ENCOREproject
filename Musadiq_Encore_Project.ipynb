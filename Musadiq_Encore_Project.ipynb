{
 "cells": [
  {
   "cell_type": "code",
   "execution_count": 1,
   "id": "a25536a0-64f8-43d8-82ce-168a403d494b",
   "metadata": {},
   "outputs": [
    {
     "name": "stdout",
     "output_type": "stream",
     "text": [
      "Requirement already satisfied: pandas in c:\\users\\hu51cv\\appdata\\local\\anaconda3\\lib\\site-packages (2.2.2)\n",
      "Requirement already satisfied: numpy>=1.26.0 in c:\\users\\hu51cv\\appdata\\local\\anaconda3\\lib\\site-packages (from pandas) (1.26.4)\n",
      "Requirement already satisfied: python-dateutil>=2.8.2 in c:\\users\\hu51cv\\appdata\\local\\anaconda3\\lib\\site-packages (from pandas) (2.9.0.post0)\n",
      "Requirement already satisfied: pytz>=2020.1 in c:\\users\\hu51cv\\appdata\\local\\anaconda3\\lib\\site-packages (from pandas) (2024.1)\n",
      "Requirement already satisfied: tzdata>=2022.7 in c:\\users\\hu51cv\\appdata\\local\\anaconda3\\lib\\site-packages (from pandas) (2023.3)\n",
      "Requirement already satisfied: six>=1.5 in c:\\users\\hu51cv\\appdata\\local\\anaconda3\\lib\\site-packages (from python-dateutil>=2.8.2->pandas) (1.16.0)\n"
     ]
    }
   ],
   "source": [
    "!pip install pandas"
   ]
  },
  {
   "cell_type": "code",
   "execution_count": 130,
   "id": "2c70853a-e59e-4b09-8e61-d4e79c8d57df",
   "metadata": {},
   "outputs": [],
   "source": [
    "import pandas as pd\n",
    "import os"
   ]
  },
  {
   "cell_type": "markdown",
   "id": "c5c3bb4f-fad1-472d-99c1-ec0476ca1881",
   "metadata": {},
   "source": [
    "**Step 1 - Reading the excel and CSV files**"
   ]
  },
  {
   "cell_type": "code",
   "execution_count": 133,
   "id": "c77b29e0-1eb3-4264-ab17-badb066d0fb5",
   "metadata": {},
   "outputs": [],
   "source": [
    "#Reading the excel file 'GICS_ENCORE_production_processes_ISIC'\n",
    "#This file contains the ISIC to NACE mapping\n",
    "GICS_ISIC_df = pd.read_excel(\"C:\\\\Users\\\\HU51CV\\\\OneDrive - ING\\\\Desktop\\\\ESG Risk\\\\Updated ENCORE knowledge base\\\\Crosswalk tables\\\\GICS_ENCORE_production_processes_ISIC.xlsx\")\n",
    "\n",
    "#reading the excel file 'DMA_SOURCES_MAPPING'\n",
    "DMA_df = pd.read_excel(\"C:\\\\Users\\\\HU51CV\\\\OneDrive - ING\\\\Desktop\\\\ESG Risk\\\\DMA_SOURCES_MAPPING.xlsx\", sheet_name=\"encore_nace\")\n",
    "\n",
    "#reading the CSV file Dependency mat rating\n",
    "#This file contains dependencies on ecosystem with respect to ISIC\n",
    "DEP_RATINGS_df = pd.read_csv(\"C:/Users/HU51CV/OneDrive - ING/Desktop/ESG Risk/Updated ENCORE knowledge base/ENCORE files/06. Dependency mat ratings.csv\")\n",
    "\n",
    "#reading the CSV file Pressure mat rating\n",
    "PRESSURE_RATINGS_df = pd.read_csv(\"C:/Users/HU51CV/OneDrive - ING/Desktop/ESG Risk/Updated ENCORE knowledge base/ENCORE files/07. Pressure mat ratings.csv\")"
   ]
  },
  {
   "cell_type": "markdown",
   "id": "64d8ce1e-7d48-4a10-a5cd-9b97c4c41bc0",
   "metadata": {},
   "source": [
    "**Step 2 - Merging both Dependency Mat Ratings and Pressure Mat Ratings file GICS_ENCORE_producyion - ISIC file**"
   ]
  },
  {
   "cell_type": "code",
   "execution_count": 136,
   "id": "05c323d6-a95c-4028-bed5-8ed4a27cfdcc",
   "metadata": {},
   "outputs": [],
   "source": [
    "#Merging the Dependency mat rating file, to (GICS_ENCORE_producyion - ISIC) file\n",
    "DEP_RAT_NACE_df = pd.merge (GICS_ISIC_df, DEP_RATINGS_df, left_on='ISIC Unique code', right_on='ISIC Unique code')"
   ]
  },
  {
   "cell_type": "code",
   "execution_count": 138,
   "id": "191dedcc-3ec7-40f2-9d4b-5eb8f7b0feaa",
   "metadata": {},
   "outputs": [],
   "source": [
    "#Merging the Pressures mat rating file to (GICS_ENCORE_producyion - ISIC) file\n",
    "PRESSURE_RAT_NACE_df = pd.merge (GICS_ISIC, PRESSURE_RATINGS_df, left_on='ISIC Unique code', right_on='ISIC Unique code')"
   ]
  },
  {
   "cell_type": "markdown",
   "id": "0d915bbc-eb7b-463c-8c9c-4d7d5db40c74",
   "metadata": {},
   "source": [
    "Saving the merged files below"
   ]
  },
  {
   "cell_type": "code",
   "execution_count": 141,
   "id": "5d6f85ef-d8cd-4748-865a-2722e862009b",
   "metadata": {},
   "outputs": [],
   "source": [
    "#saving updated pressure mat ratings file\n",
    "PRESSURE_RAT_NACE_df.to_excel(\"C:\\\\Users\\\\HU51CV\\\\OneDrive - ING\\\\Desktop\\\\ESG Risk\\\\Pressure_with_NACE_class.xlsx\")\n",
    "#saving updated dependency mat ratings file\n",
    "DEP_RAT_NACE_df.to_excel(\"C:\\\\Users\\\\HU51CV\\\\OneDrive - ING\\\\Desktop\\\\ESG Risk\\\\Dependency_with_NACE_class.xlsx\")"
   ]
  },
  {
   "cell_type": "markdown",
   "id": "3cb4eb14-017e-44ac-ba0e-bdc0f455c096",
   "metadata": {},
   "source": [
    "**Step 3 - Applying conditional Formatting to highlight pressures and dependencies with ‘High’ or ‘Very High’ ratings**"
   ]
  },
  {
   "cell_type": "code",
   "execution_count": 146,
   "id": "42cb8ca3-098c-4bc4-ae9d-6f832d85dea8",
   "metadata": {},
   "outputs": [],
   "source": [
    "#importing essential libraries\n",
    "from openpyxl import load_workbook\n",
    "from openpyxl.styles import PatternFill\n",
    "from openpyxl.formatting.rule import FormulaRule"
   ]
  },
  {
   "cell_type": "markdown",
   "id": "4608b38e-a5e7-4490-9eb8-7ad30273f8d4",
   "metadata": {},
   "source": [
    "Conditional formatting for Pressure Mat Ratings"
   ]
  },
  {
   "cell_type": "code",
   "execution_count": 149,
   "id": "a5fd436f-b290-497e-9f2c-fa996fc3fbf4",
   "metadata": {},
   "outputs": [],
   "source": [
    "#loading workbook\n",
    "workbook = load_workbook(\"C:\\\\Users\\\\HU51CV\\\\OneDrive - ING\\\\Desktop\\\\ESG Risk\\\\Pressure_with_NACE_class.xlsx\")\n",
    "worksheet = workbook.active"
   ]
  },
  {
   "cell_type": "code",
   "execution_count": 151,
   "id": "179052ac-8ed9-4f79-8776-0edd5714cc15",
   "metadata": {},
   "outputs": [],
   "source": [
    "#Define the fill pattern for highlighting\n",
    "high_fill = PatternFill(start_color=\"FFFF00\", end_color=\"FFFF00\", fill_type=\"solid\")  # Yellow fill\n",
    "very_high_fill = PatternFill(start_color=\"FF0000\", end_color=\"FF0000\", fill_type=\"solid\")  # Red fill"
   ]
  },
  {
   "cell_type": "code",
   "execution_count": 158,
   "id": "e73900fe-54cb-4e31-9d31-3bdf6521b49c",
   "metadata": {},
   "outputs": [],
   "source": [
    "# Apply conditional formatting for consolidated file\n",
    "for row in range(2, worksheet.max_row + 1):  # Skip header row\n",
    "    cell = worksheet[f'B{row}']\n",
    "    if cell.value ==\"H\":\n",
    "        cell.fill = high_fill\n",
    "    elif cell.value ==\"VH\":\n",
    "        cell.fill = very_high_fill\n",
    "        \n",
    "# Save the workbook with conditional formatting\n",
    "output_path = \"C:\\\\Users\\\\HU51CV\\\\OneDrive - ING\\\\Desktop\\\\ESG Risk\\\\Pressure_Conditional_format.xlsx\"\n",
    "workbook.save(output_path)"
   ]
  },
  {
   "cell_type": "markdown",
   "id": "7bcb67a5-863c-44e2-97e3-d4ba59752201",
   "metadata": {},
   "source": [
    "**Step 4 - Creating a new column with the number of with ‘High’ or ‘Very High’ pressures**"
   ]
  },
  {
   "cell_type": "code",
   "execution_count": 163,
   "id": "96a4a6d6-dc23-42de-9273-ff4ab6122450",
   "metadata": {},
   "outputs": [],
   "source": [
    "# Load your DataFrame\n",
    "df = pd.read_excel(\"C:\\\\Users\\\\HU51CV\\\\OneDrive - ING\\\\Desktop\\\\ESG Risk\\\\Pressure_Conditional_format.xlsx\")\n",
    "\n",
    "# Define the column range (replace ‘colx’ and ‘coly’ with the right ones)\n",
    "start_col = 17\n",
    "end_col = 30\n",
    " \n",
    "# Ensure the columns are zero-indexed\n",
    "start_col -= 1\n",
    "end_col -= 1\n",
    " \n",
    "# Calculate the number of times we have values of x1 or x2 in the specified column range\n",
    "df['Count_H_or_VH'] = df.iloc[:, start_col:end_col+1].apply(lambda row: ((row == 'H') | (row == 'VH')).sum(), axis=1)\n",
    "\n",
    "# Save the resulting DataFrame to a new Excel file\n",
    "df.to_excel(\"C:\\\\Users\\\\HU51CV\\\\OneDrive - ING\\\\Desktop\\\\ESG Risk\\\\Pressure_with_counts.xlsx\", index=False)"
   ]
  },
  {
   "cell_type": "code",
   "execution_count": null,
   "id": "8b961565-71e2-4964-8ae5-b4272985d0bc",
   "metadata": {},
   "outputs": [],
   "source": []
  },
  {
   "cell_type": "code",
   "execution_count": null,
   "id": "3d7bebf9-df36-4334-adba-811580a05662",
   "metadata": {},
   "outputs": [],
   "source": []
  }
 ],
 "metadata": {
  "kernelspec": {
   "display_name": "Python 3 (ipykernel)",
   "language": "python",
   "name": "python3"
  },
  "language_info": {
   "codemirror_mode": {
    "name": "ipython",
    "version": 3
   },
   "file_extension": ".py",
   "mimetype": "text/x-python",
   "name": "python",
   "nbconvert_exporter": "python",
   "pygments_lexer": "ipython3",
   "version": "3.12.4"
  }
 },
 "nbformat": 4,
 "nbformat_minor": 5
}
