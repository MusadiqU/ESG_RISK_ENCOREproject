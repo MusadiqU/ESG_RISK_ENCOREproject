{
 "cells": [
  {
   "cell_type": "code",
   "execution_count": 1,
   "id": "c8db191b-15fa-4653-a26b-87d6d84b29c9",
   "metadata": {},
   "outputs": [
    {
     "name": "stdout",
     "output_type": "stream",
     "text": [
      "Requirement already satisfied: pandas in c:\\users\\hu51cv\\appdata\\local\\anaconda3\\lib\\site-packages (2.2.2)\n",
      "Requirement already satisfied: numpy>=1.26.0 in c:\\users\\hu51cv\\appdata\\local\\anaconda3\\lib\\site-packages (from pandas) (1.26.4)\n",
      "Requirement already satisfied: python-dateutil>=2.8.2 in c:\\users\\hu51cv\\appdata\\local\\anaconda3\\lib\\site-packages (from pandas) (2.9.0.post0)\n",
      "Requirement already satisfied: pytz>=2020.1 in c:\\users\\hu51cv\\appdata\\local\\anaconda3\\lib\\site-packages (from pandas) (2024.1)\n",
      "Requirement already satisfied: tzdata>=2022.7 in c:\\users\\hu51cv\\appdata\\local\\anaconda3\\lib\\site-packages (from pandas) (2023.3)\n",
      "Requirement already satisfied: six>=1.5 in c:\\users\\hu51cv\\appdata\\local\\anaconda3\\lib\\site-packages (from python-dateutil>=2.8.2->pandas) (1.16.0)\n"
     ]
    }
   ],
   "source": [
    "!pip install pandas"
   ]
  },
  {
   "cell_type": "code",
   "execution_count": 3,
   "id": "d52b3787-e012-49ae-9971-26b8b02d9c9b",
   "metadata": {},
   "outputs": [],
   "source": [
    "import pandas as pd\n",
    "import os"
   ]
  },
  {
   "cell_type": "code",
   "execution_count": 5,
   "id": "375e9c66-4848-4480-8ce8-ab728739f430",
   "metadata": {},
   "outputs": [],
   "source": [
    "#reading excle files\n",
    "df1 = pd.read_excel(\"C:\\\\Users\\\\HU51CV\\\\OneDrive - ING\\\\Desktop\\\\ESG Risk\\\\Pressure_with_NACE_class.xlsx\")\n",
    "df2 = pd.read_excel(\"C:\\\\Users\\\\HU51CV\\\\OneDrive - ING\\\\Desktop\\\\ESG Risk\\\\Dependency_with_NACE_class.xlsx\")\n",
    "DMA_df = pd.read_excel(\"C:\\\\Users\\\\HU51CV\\\\OneDrive - ING\\\\Desktop\\\\ESG Risk\\\\DMA_SOURCES_MAPPING.xlsx\", sheet_name=\"encore_nace\")"
   ]
  },
  {
   "cell_type": "markdown",
   "id": "45ed9799-fe34-40a9-a7fa-f6d4ab83137e",
   "metadata": {},
   "source": [
    "**Consistency check (uniqueness of the results)**"
   ]
  },
  {
   "cell_type": "markdown",
   "id": "6f90790d-cbb5-406f-a44f-b1cec7c38517",
   "metadata": {},
   "source": [
    "1. Starting with df1 - Pressure Mat Rating with Nace class"
   ]
  },
  {
   "cell_type": "code",
   "execution_count": 85,
   "id": "30e881e0-a265-44b9-a933-68247f015781",
   "metadata": {},
   "outputs": [],
   "source": [
    "# Check for repeated NACE class and aggregate using the conservative approach \n",
    "# Step 1: Define a mapping to convert ratings to numeric values \n",
    "conv_mapping = {'N/A':0, 'VL': 1, 'L': 2, 'M': 3 , 'H': 4, 'VH': 5}\n",
    "\n",
    "# Step 2: Apply the mapping replacing start_col and end_col by the corresponding values\n",
    "rating_columns = df1.columns[16:28]\n",
    "df1[rating_columns]= df1[rating_columns].replace(conv_mapping)\n",
    "\n",
    "#If any column still contains non-numeric dat\n",
    "df=df1.fillna(0) #Replace NaN values with 0\n",
    "\n",
    "# Step 3: Check for uniqueness of NACE class and aggregate the maximum values for NACE class occurring multiple times\n",
    "df_aggregated = df1.groupby('NACE Class').agg({col: 'max' for col in rating_columns}).reset_index()\n"
   ]
  },
  {
   "cell_type": "code",
   "execution_count": 81,
   "id": "681b5482-b191-49f4-8bcf-f0c7d43954be",
   "metadata": {},
   "outputs": [
    {
     "name": "stdout",
     "output_type": "stream",
     "text": [
      "Processing complete. The aggregated data has been saved to C:\\Users\\HU51CV\\OneDrive - ING\\Desktop\\ESG Risk\\Aggregated_pressure_mat_ratings.xlsx\n"
     ]
    }
   ],
   "source": [
    "output_path = \"C:\\\\Users\\\\HU51CV\\\\OneDrive - ING\\\\Desktop\\\\ESG Risk\\\\Aggregated_pressure_mat_ratings.xlsx\"\n",
    "df_aggregated.to_excel(output_path, index=False)\n",
    "\n",
    "print(\"Processing complete. The aggregated data has been saved to\", output_path)"
   ]
  },
  {
   "cell_type": "markdown",
   "id": "dfc979e0-802f-478d-af62-d5cce7857f9b",
   "metadata": {},
   "source": [
    "2. df2 - Dependency Mat Rating with Nace class"
   ]
  },
  {
   "cell_type": "code",
   "execution_count": 75,
   "id": "fbb203c5-35c1-47f1-9e36-81cd79c78432",
   "metadata": {},
   "outputs": [],
   "source": [
    "# Check for repeated NACE class and aggregate using the conservative approach \n",
    "# Step 1: Define a mapping to convert ratings to numeric values \n",
    "conv_mapping = {'ND':0, 'VL': 1, 'L': 2, 'M': 3 , 'H': 4, 'VH': 5}\n",
    "\n",
    "# Step 2: Apply the mapping replacing start_col and end_col by the corresponding values\n",
    "rating_columns = df2.columns[16:40]\n",
    "df2[rating_columns]= df2[rating_columns].replace(conv_mapping)\n",
    "\n",
    "#If any column still contains non-numeric dat\n",
    "df=df2.fillna(0) #Replace NaN values with 0\n",
    "\n",
    "# Step 3: Check for uniqueness of NACE class and aggregate the maximum values for NACE class occurring multiple times\n",
    "df3_aggregated = df2.groupby('NACE Class').agg({col: 'max' for col in rating_columns}).reset_index()"
   ]
  },
  {
   "cell_type": "code",
   "execution_count": 77,
   "id": "173ead69-5950-40a3-8fa2-283434709d97",
   "metadata": {},
   "outputs": [
    {
     "name": "stdout",
     "output_type": "stream",
     "text": [
      "Processing complete. The aggregated data has been saved to C:\\Users\\HU51CV\\OneDrive - ING\\Desktop\\ESG Risk\\Aggregated_dependency_mat_ratings.xlsx\n"
     ]
    }
   ],
   "source": [
    "output_path = \"C:\\\\Users\\\\HU51CV\\\\OneDrive - ING\\\\Desktop\\\\ESG Risk\\\\Aggregated_dependency_mat_ratings.xlsx\"\n",
    "df3_aggregated.to_excel(output_path, index=False)\n",
    "\n",
    "print(\"Processing complete. The aggregated data has been saved to\", output_path)"
   ]
  },
  {
   "cell_type": "code",
   "execution_count": null,
   "id": "3f5fe779-fadf-4150-90a4-c794f96d5c0e",
   "metadata": {},
   "outputs": [],
   "source": []
  }
 ],
 "metadata": {
  "kernelspec": {
   "display_name": "Python 3 (ipykernel)",
   "language": "python",
   "name": "python3"
  },
  "language_info": {
   "codemirror_mode": {
    "name": "ipython",
    "version": 3
   },
   "file_extension": ".py",
   "mimetype": "text/x-python",
   "name": "python",
   "nbconvert_exporter": "python",
   "pygments_lexer": "ipython3",
   "version": "3.12.4"
  }
 },
 "nbformat": 4,
 "nbformat_minor": 5
}
